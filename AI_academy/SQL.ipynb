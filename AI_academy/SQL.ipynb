{
 "cells": [
  {
   "cell_type": "markdown",
   "metadata": {},
   "source": [
    "# SQL"
   ]
  },
  {
   "cell_type": "markdown",
   "metadata": {},
   "source": [
    "SQLite3を起動するには、Macの方はターミナルを起動し、次のようにします。\n",
    "sqlite3"
   ]
  },
  {
   "cell_type": "markdown",
   "metadata": {},
   "source": [
    "sqliteでデータベースを作成するには、sqlite起動時に次のように実行します。\n",
    "\n",
    "sqlite3 sample_db;"
   ]
  },
  {
   "cell_type": "markdown",
   "metadata": {},
   "source": [
    "テーブルを作成するにはcreateを利用します。\n",
    "例えば、sample_tableという名前のテーブルを作成するには次のようにします。\n",
    "\n",
    "create table sample_table(id, name);"
   ]
  },
  {
   "cell_type": "markdown",
   "metadata": {},
   "source": [
    "テーブルが作成されたかを確認するには次のコマンドを実行します。\n",
    "\n",
    ".tables\n",
    "\n",
    "また、.schemaを使うことでテーブルの構造を取得可能です。"
   ]
  },
  {
   "cell_type": "markdown",
   "metadata": {},
   "source": [
    "データの追加\n",
    "INSERT文を使うことで、データを追加することが出来ます。\n",
    "\n",
    "insert into sample_table values(1, 'apple');\n",
    "insert into sample_table values(2, 'grapes');\n",
    "insert into sample_table values(3, 'orange');"
   ]
  },
  {
   "cell_type": "markdown",
   "metadata": {},
   "source": [
    "データの取得\n",
    "データを取得するにはselectを用います。\n",
    "\n",
    "select * from sample_table;\n",
    "\n",
    "1|apple\n",
    "2|grapes\n",
    "3|orange"
   ]
  },
  {
   "cell_type": "markdown",
   "metadata": {},
   "source": [
    "# CSV読み込み方法"
   ]
  },
  {
   "cell_type": "markdown",
   "metadata": {},
   "source": [
    "CSV読み込み方法\n",
    "SQLite3でCSVファイルを読み込むには次のようにします。\n",
    "\n",
    "sqlite> .mode csv\n",
    "sqlite> .import csvファイルのパス　作成したいパス　作成したいテーブル名"
   ]
  },
  {
   "cell_type": "markdown",
   "metadata": {},
   "source": [
    "読み込み、作成までの方法には、例えば、次のようにkpi.csvというcsvファイルを/Users/cyberbrain/Desktop/kpi.csvがある場合に、次のようにします。\n",
    "\n",
    ".import /Users/cyberbrain/Desktop/kpi.csv kpi"
   ]
  },
  {
   "cell_type": "markdown",
   "metadata": {},
   "source": [
    "テーブルが正しく作成されたかどうかは次のようにします。\n",
    "\n",
    ".tables\n",
    "\n",
    "上記を実行し、kpiというテーブルが出力されていれば正しく動作が出来ています。"
   ]
  },
  {
   "cell_type": "markdown",
   "metadata": {},
   "source": [
    "CSVファイルの書き出し\n",
    "\n",
    "次に、先ほど読み込んだCSVファイルを別のファイル名で書き出して見ます。\n",
    "ここで注意なのは、最後の.quitを実行することで初めて書き込みが行われます。\n",
    "それでは順番に見ていきましょう。"
   ]
  },
  {
   "cell_type": "markdown",
   "metadata": {},
   "source": [
    "sqlite> .headers on\n",
    "sqlite> .mode csv\n",
    "sqlite> .output data.csv\n",
    "sqlite> SELECT * from kpi;\n",
    "sqlite> .quit"
   ]
  },
  {
   "cell_type": "markdown",
   "metadata": {},
   "source": [
    "それでは、data.csvというファイル名を出力してみましょう。\n",
    "手順としては５通りです。\n",
    "\n",
    "まず、.headers onを入力します。\n",
    "これは結果セットのヘッダーをオンにしています。\n",
    "これによりヘッダー部分も書き込まれます。（ヘッダーの部分の書き込みが必要ない場合は、この記述は必要ありません。）\n",
    "\n",
    "次に.mode csvを記述します。\n",
    "\n",
    "次に、.output ファイル名とし、書き出したいcsvファイル名を記載します。\n",
    "最後に、書き出したい中身を抽出します。\n",
    "ここで、全データを書き出したい場合には、SELECT * from テーブル名;とします。\n",
    "\n",
    "最後に、必ず、.quitを実行しsqlite3を終了し、書き出されたcsvファイルを確認してみてください。\n",
    "うまく書き出されていたら成功です。"
   ]
  },
  {
   "cell_type": "markdown",
   "metadata": {},
   "source": [
    "# PythonからSQLiteを利用する"
   ]
  },
  {
   "cell_type": "code",
   "execution_count": 2,
   "metadata": {},
   "outputs": [],
   "source": [
    "import sqlite3"
   ]
  },
  {
   "cell_type": "markdown",
   "metadata": {},
   "source": [
    "データベースを作成する\n",
    "それではデータベースを作成していきます。\n",
    "次のプログラムを打ち込みEnterキーで実行します。"
   ]
  },
  {
   "cell_type": "code",
   "execution_count": 3,
   "metadata": {},
   "outputs": [],
   "source": [
    "db = sqlite3.connect(\"sample.db\")"
   ]
  },
  {
   "cell_type": "markdown",
   "metadata": {},
   "source": [
    "テーブルを作成する\n",
    "それでは、データベースを作成することが出来ましたので、次にテーブルを作成します。\n",
    "次のコードを打ち込み実行してください。"
   ]
  },
  {
   "cell_type": "code",
   "execution_count": 4,
   "metadata": {},
   "outputs": [],
   "source": [
    "cursor = db.cursor()\n",
    "cursor.execute(\"CREATE TABLE users(user_id, user_name)\");"
   ]
  },
  {
   "cell_type": "markdown",
   "metadata": {},
   "source": [
    "作成したテーブルに新規データを追加する\n",
    "先ほどusersテーブルを作成しました。\n",
    "しかし、作成は出来ましたがまだ何もデータが存在しない状態です。\n",
    "ここでは作成したusersテーブルに新規データを追加していきます。\n",
    "それでは先ほどの続きに下記のプログラムを打ち込み実行してください。"
   ]
  },
  {
   "cell_type": "code",
   "execution_count": 6,
   "metadata": {},
   "outputs": [
    {
     "data": {
      "text/plain": [
       "<sqlite3.Cursor at 0x10a3540a0>"
      ]
     },
     "execution_count": 6,
     "metadata": {},
     "output_type": "execute_result"
    }
   ],
   "source": [
    "cursor.execute(\"INSERT INTO users VALUES(1, 'python')\")"
   ]
  },
  {
   "cell_type": "markdown",
   "metadata": {},
   "source": [
    "上記を実行することで、新規にデータを追加することが可能です。\n",
    "既にお気づきかもしれませんが、execute()のカッコ内にSQLを渡すことでそのSQLを実行することが出来ます。\n",
    "\n",
    "さて、上記方法で新規データを追加することが出来ますが、本来であれば上記書き方は実務ではあまりされません。\n",
    "というもの、SQLインジェクションという脆弱性を突かれる可能性があるためです。"
   ]
  },
  {
   "cell_type": "markdown",
   "metadata": {},
   "source": [
    "SQLインジェクションとは、アプリケーションのセキュリティ上の不備を意図的に利用し、アプリケーションが想定しないSQL文を実行させることにより、データベースシステムを不正に操作する攻撃方法のこと。"
   ]
  },
  {
   "cell_type": "markdown",
   "metadata": {},
   "source": [
    "SQLインジェクション対策として使われるのがプレースホルダというものがあります。\n",
    "プレースホルダは、パラメータ部分を示す記号?のことですが、プレースホルダとして?を使うことで、値を安全に渡すことが可能です。\n",
    "\n",
    "次のように記述可能です。"
   ]
  },
  {
   "cell_type": "code",
   "execution_count": 7,
   "metadata": {},
   "outputs": [
    {
     "data": {
      "text/plain": [
       "<sqlite3.Cursor at 0x10a3540a0>"
      ]
     },
     "execution_count": 7,
     "metadata": {},
     "output_type": "execute_result"
    }
   ],
   "source": [
    "cursor.execute(\"INSERT INTO users(user_id, user_name) VALUES(?,?)\",(2,'python3'))"
   ]
  },
  {
   "cell_type": "markdown",
   "metadata": {},
   "source": [
    "上記方法で安全にデータを新規追加することが出来ました。\n",
    "また、複数のデータを追加したい場合にはexecutemany()を使うことで、複数追加が出来ます。"
   ]
  },
  {
   "cell_type": "code",
   "execution_count": 8,
   "metadata": {},
   "outputs": [
    {
     "data": {
      "text/plain": [
       "<sqlite3.Cursor at 0x10a3540a0>"
      ]
     },
     "execution_count": 8,
     "metadata": {},
     "output_type": "execute_result"
    }
   ],
   "source": [
    "data = [\n",
    "    (3, \"ruby\"),\n",
    "    (4, \"r\"),\n",
    "    (5, \"java\")\n",
    "]\n",
    "cursor.executemany(\"INSERT INTO users VALUES(?,?)\", data)"
   ]
  },
  {
   "cell_type": "markdown",
   "metadata": {},
   "source": [
    "データを反映させる\n",
    "ここまでの内容でデータベースの作成方法、テーブルの作成方法、SQLの実行方法を学びました。\n",
    "ですが、実は先ほどのデータの追加はまだ反映されていません。\n",
    "データを反映させるためには、commit()を実行します。\n",
    "次のプログラムを打ち込み、実行してください。"
   ]
  },
  {
   "cell_type": "code",
   "execution_count": 9,
   "metadata": {},
   "outputs": [],
   "source": [
    "db.commit()"
   ]
  },
  {
   "cell_type": "markdown",
   "metadata": {},
   "source": [
    "大事なのは、execute()終えた後には必ずcommit()を実行する必要があります。\n",
    "実行しないとデータが正しく反映されません。"
   ]
  },
  {
   "cell_type": "markdown",
   "metadata": {},
   "source": [
    "データを取得する\n",
    "それでは先ほどまでに追加したデータを取得してみましょう。\n",
    "データを取得するには、execute()に加え、fetchall()と合わせて利用します。\n",
    "次のプログラムを記述し実行してください。"
   ]
  },
  {
   "cell_type": "code",
   "execution_count": 10,
   "metadata": {},
   "outputs": [
    {
     "data": {
      "text/plain": [
       "[(1, 'python'), (2, 'python3'), (3, 'ruby'), (4, 'r'), (5, 'java')]"
      ]
     },
     "execution_count": 10,
     "metadata": {},
     "output_type": "execute_result"
    }
   ],
   "source": [
    "cursor.execute('SELECT * FROM users')\n",
    "cursor.fetchall()"
   ]
  },
  {
   "cell_type": "markdown",
   "metadata": {},
   "source": [
    "SELECT * FROM テーブル名という記述により、全てのデータを取得することが出来ます。\n",
    "アスタリスク(*)は全てを意味します。\n",
    "そしてfetchall()は全ての行を取得します。\n",
    "取得したデータがPythonのリスト型で返ってきます。\n",
    "\n",
    "他にも、fetchone()を用いてデータを1つ1つ取り出すことも可能です。\n",
    "次のように記述します。"
   ]
  }
 ],
 "metadata": {
  "kernelspec": {
   "display_name": "Python 3",
   "language": "python",
   "name": "python3"
  },
  "language_info": {
   "codemirror_mode": {
    "name": "ipython",
    "version": 3
   },
   "file_extension": ".py",
   "mimetype": "text/x-python",
   "name": "python",
   "nbconvert_exporter": "python",
   "pygments_lexer": "ipython3",
   "version": "3.7.6"
  }
 },
 "nbformat": 4,
 "nbformat_minor": 4
}
