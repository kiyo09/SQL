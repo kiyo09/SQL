{
 "cells": [
  {
   "cell_type": "markdown",
   "metadata": {},
   "source": [
    "# SQL1"
   ]
  },
  {
   "cell_type": "markdown",
   "metadata": {},
   "source": [
    "SELECT　name\n",
    "データのカラム取得"
   ]
  },
  {
   "cell_type": "markdown",
   "metadata": {},
   "source": [
    "FROM　purchases\n",
    "どのテーブルが存在するか"
   ]
  },
  {
   "cell_type": "markdown",
   "metadata": {},
   "source": [
    "データベースに伝えるためのセミコロン（；）を加えて完成"
   ]
  },
  {
   "cell_type": "markdown",
   "metadata": {},
   "source": [
    "SELECT　name, price\n",
    "複数のカラムからデータを取得する"
   ]
  },
  {
   "cell_type": "markdown",
   "metadata": {},
   "source": [
    "SELECT *\n",
    "全てのカラムからデータを取得する"
   ]
  },
  {
   "cell_type": "markdown",
   "metadata": {},
   "source": [
    "WHERE category = '食費'\n",
    "「WHERE」が意味するのは、「どこのレコード（横の列）を取得するか"
   ]
  },
  {
   "cell_type": "markdown",
   "metadata": {},
   "source": [
    "|カラム  |　データ型  |　保存されているデータ  |\n",
    "|---|---|---|\n",
    "|id |　数値 |　3  |\n",
    "|name |　テキスト |　'お弁当' |\n",
    "| purchased_at  | 日付 | '2017-09-09 ' |"
   ]
  },
  {
   "cell_type": "markdown",
   "metadata": {},
   "source": [
    "WHERE name LIKE %文字列%;\n",
    "「ある文字を含むデータ」を取得したい場合は、「〜のような」という意味を持つ、「LIKE演算子」を用います。"
   ]
  },
  {
   "cell_type": "markdown",
   "metadata": {},
   "source": [
    "WHERE NOT price > 1000;\n",
    "「〇〇を含まないデータ」や「〇〇に一致しないデータ」のような条件でデータを取得したい場合は「否定」を意味する"
   ]
  },
  {
   "cell_type": "markdown",
   "metadata": {},
   "source": [
    "WHERE price IS NULL;\n",
    "「〜がNULLである」という意味になる、「IS NULL」\n",
    "\n",
    "WHERE price IS NOT NULL;\n",
    "「〜がNULLでない」という意味になる「IS NOT NULL」\n",
    "\n",
    "「NULLのデータ」や「NULLでないデータ」を取得したい場合、図のように「=」は使うことができません。"
   ]
  },
  {
   "cell_type": "markdown",
   "metadata": {},
   "source": [
    "WHERE category = '食費'\n",
    "AND name = ''\n",
    "OR name = ''\n",
    ";\n",
    "\n",
    "\n",
    "AND演算子を使うと、WHEREに複数の条件を指定することができます。\n",
    "\n",
    "OR演算子は、AND演算子と同様に、複数の条件を扱います。"
   ]
  },
  {
   "cell_type": "markdown",
   "metadata": {},
   "source": [
    "ORDER BY 並べ替えたいカラム名　並べ方;\n",
    "SQLでは「昇順」は「ASC」、「降順」は「DESC」と指定します。\n",
    "\n",
    "ORDER BY price DESC;"
   ]
  },
  {
   "cell_type": "markdown",
   "metadata": {},
   "source": [
    "LIMIT データの数;"
   ]
  },
  {
   "cell_type": "code",
   "execution_count": null,
   "metadata": {},
   "outputs": [],
   "source": []
  },
  {
   "cell_type": "markdown",
   "metadata": {},
   "source": [
    "# SQL2"
   ]
  },
  {
   "cell_type": "markdown",
   "metadata": {},
   "source": [
    "DISTINCT（カラム）　重複を削除できる"
   ]
  },
  {
   "cell_type": "markdown",
   "metadata": {},
   "source": [
    "四則演算\n",
    "SELECT　name, price * 1.08"
   ]
  },
  {
   "cell_type": "markdown",
   "metadata": {},
   "source": [
    "SELECT　SUM（price）\n",
    "FROM　purchases\n",
    "WHERE　character_name = 'にんじゃわんこ'；\n",
    "\n",
    "AVG（price）\n",
    "COUNT(price)\n",
    "MAX(price)\n",
    "MIN（price）\n"
   ]
  },
  {
   "cell_type": "markdown",
   "metadata": {},
   "source": [
    "グループ化\n",
    "GROUP BY　カラム名\n",
    "\n",
    "グループ化したデータの絞り込み\n",
    "HAVING\n",
    "WHEREは全データの絞り込み"
   ]
  },
  {
   "cell_type": "markdown",
   "metadata": {},
   "source": [
    "|優先順位  |　コード  |\n",
    "|---|---|\n",
    "|検索 |　WHERE |\n",
    "|グループ化 |　GROUP　BY |\n",
    "|関数  | COUNT　SUM　AVG　MAX　MIN |\n",
    "|HAVING  |HAVING |"
   ]
  },
  {
   "cell_type": "markdown",
   "metadata": {},
   "source": [
    "JOINは複数のテーブルを1つに結合したいときに使います。\n",
    "結合条件は、「ON テーブル名.カラム名 = テーブル名.カラム名」で指定します。"
   ]
  },
  {
   "cell_type": "markdown",
   "metadata": {},
   "source": [
    "# SQL３"
   ]
  },
  {
   "cell_type": "markdown",
   "metadata": {},
   "source": [
    "クエリの中に他のクエリを入れることができます。この他のクエリをサブクエリと言います。\n",
    "\n",
    "SELECT　name\n",
    "FROM players\n",
    "WHERE goals > (\n",
    "    SELECT goals\n",
    "    FROM players\n",
    "    WHERE name = 'ウィル'\n",
    "    ）；\n",
    "    "
   ]
  },
  {
   "cell_type": "markdown",
   "metadata": {},
   "source": [
    "|実行順位  |　コード  |\n",
    "|---|---|\n",
    "|テーブルの指定  |FROM  |\n",
    "|結合 |JOIN ON |\n",
    "|取得条件 |WHERE  |\n",
    "|グループ化 |GROUP　BY  |\n",
    "|関数 |COUNT　SUM　AVG　MIN |\n",
    "|HAVING  |HAVING  |\n",
    "|検索  |SELECT　DISTINCT  |\n",
    "|順序  |ORDER　BY  |\n",
    "|LIMIT |LIMIT |"
   ]
  },
  {
   "cell_type": "markdown",
   "metadata": {},
   "source": [
    "LEFT JOINを使うことで、FROMで指定したテーブルのレコードを全て取得します。外部キーがNULLのレコードもNULLのまま実行結果に表示されます。"
   ]
  },
  {
   "cell_type": "markdown",
   "metadata": {},
   "source": [
    "SELECT　＊\n",
    "FROM　players\n",
    "JOIN countries\n",
    "ON players.country_id = countries.id\n",
    "LEFT JOIN teams\n",
    "ON players.previous_team_id = teams.id;"
   ]
  },
  {
   "cell_type": "markdown",
   "metadata": {},
   "source": [
    "INSERT\n",
    "テーブルにレコードを挿入したいときはINSERTを使います。\n",
    "INSERTとは「挿入する」という意味です。"
   ]
  },
  {
   "cell_type": "markdown",
   "metadata": {},
   "source": [
    "データを更新したいときにはUPDATEを使います。\n",
    "複数変更したいカラムがある場合、コンマ(,)で区切ります。\n",
    "実行前に一度SELECTを実行して、操作するデータを確認する習慣をつけましょう。\n",
    "\n",
    "UPDATE students\n",
    "SET name = 'jordan', course  = 'HTML'\n",
    "WHERE id = 6;"
   ]
  },
  {
   "cell_type": "markdown",
   "metadata": {},
   "source": [
    "レコードを削除するときはDELETEを使います。\n",
    "UPDATEと同様にクエリ実行後はレコードを元に戻すことができないので、SELECTでレコードを確認してから削除を行いましょう。\n",
    "\n",
    "DELETE FROM students\n",
    "WHERE id = 7;\n",
    "\n",
    "WHEREで削除するレコードを指定しないとテーブル内の全レコードが削除されてしまいます。"
   ]
  },
  {
   "cell_type": "markdown",
   "metadata": {},
   "source": [
    "|   |   |   |   |\n",
    "|:--|:--|:--|:--|\n",
    "|取得   |SELECT カラムA,カラムB |更新   |UPDATE テーブル名  |\n",
    "|        |FROM テーブル名;   |        |SET カラムA　= 値１, カラムB　= 値２ |\n",
    "|        |          |          |WHERE 条件；|\n",
    "|挿入   |INSERT　INTO　テーブル名（カラムA, カラムB...）    |削除   |DELETE FROM テーブル名   |\n",
    "|        |VALUES(値１, 値２...);|        |WHERE 条件；|"
   ]
  },
  {
   "cell_type": "markdown",
   "metadata": {},
   "source": [
    "FIN"
   ]
  },
  {
   "cell_type": "markdown",
   "metadata": {},
   "source": [
    "PROGATE"
   ]
  },
  {
   "cell_type": "code",
   "execution_count": null,
   "metadata": {},
   "outputs": [],
   "source": []
  }
 ],
 "metadata": {
  "kernelspec": {
   "display_name": "Python 3",
   "language": "python",
   "name": "python3"
  },
  "language_info": {
   "codemirror_mode": {
    "name": "ipython",
    "version": 3
   },
   "file_extension": ".py",
   "mimetype": "text/x-python",
   "name": "python",
   "nbconvert_exporter": "python",
   "pygments_lexer": "ipython3",
   "version": "3.7.6"
  }
 },
 "nbformat": 4,
 "nbformat_minor": 4
}
