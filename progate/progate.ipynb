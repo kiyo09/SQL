{
 "cells": [
  {
   "cell_type": "markdown",
   "metadata": {},
   "source": [
    "SELECT　name\n",
    "データのカラム取得"
   ]
  },
  {
   "cell_type": "markdown",
   "metadata": {},
   "source": [
    "FROM　purchases\n",
    "どのテーブルが存在するか"
   ]
  },
  {
   "cell_type": "markdown",
   "metadata": {},
   "source": [
    "データベースに伝えるためのセミコロン（；）を加えて完成"
   ]
  },
  {
   "cell_type": "markdown",
   "metadata": {},
   "source": [
    "SELECT　name, price\n",
    "複数のカラムからデータを取得する"
   ]
  },
  {
   "cell_type": "markdown",
   "metadata": {},
   "source": [
    "SELECT *\n",
    "全てのカラムからデータを取得する"
   ]
  },
  {
   "cell_type": "markdown",
   "metadata": {},
   "source": [
    "WHERE category = '食費'\n",
    "「WHERE」が意味するのは、「どこのレコード（横の列）を取得するか"
   ]
  },
  {
   "cell_type": "markdown",
   "metadata": {},
   "source": [
    "|カラム  |　データ型  |　保存されているデータ  |\n",
    "|---|---|---|\n",
    "|id |　数値 |　3  |\n",
    "|name |　テキスト |　'お弁当' |\n",
    "| purchased_at  | 日付 | '2017-09-09 ' |"
   ]
  },
  {
   "cell_type": "markdown",
   "metadata": {},
   "source": [
    "WHERE name LIKE %文字列%;\n",
    "「ある文字を含むデータ」を取得したい場合は、「〜のような」という意味を持つ、「LIKE演算子」を用います。"
   ]
  },
  {
   "cell_type": "markdown",
   "metadata": {},
   "source": [
    "WHERE NOT price > 1000;\n",
    "「〇〇を含まないデータ」や「〇〇に一致しないデータ」のような条件でデータを取得したい場合は「否定」を意味する"
   ]
  },
  {
   "cell_type": "markdown",
   "metadata": {},
   "source": [
    "WHERE price IS NULL;\n",
    "「〜がNULLである」という意味になる、「IS NULL」\n",
    "\n",
    "WHERE price IS NOT NULL;\n",
    "「〜がNULLでない」という意味になる「IS NOT NULL」\n",
    "\n",
    "「NULLのデータ」や「NULLでないデータ」を取得したい場合、図のように「=」は使うことができません。"
   ]
  },
  {
   "cell_type": "code",
   "execution_count": null,
   "metadata": {},
   "outputs": [],
   "source": []
  },
  {
   "cell_type": "code",
   "execution_count": null,
   "metadata": {},
   "outputs": [],
   "source": []
  },
  {
   "cell_type": "code",
   "execution_count": null,
   "metadata": {},
   "outputs": [],
   "source": []
  }
 ],
 "metadata": {
  "kernelspec": {
   "display_name": "Python 3",
   "language": "python",
   "name": "python3"
  },
  "language_info": {
   "codemirror_mode": {
    "name": "ipython",
    "version": 3
   },
   "file_extension": ".py",
   "mimetype": "text/x-python",
   "name": "python",
   "nbconvert_exporter": "python",
   "pygments_lexer": "ipython3",
   "version": "3.7.6"
  }
 },
 "nbformat": 4,
 "nbformat_minor": 4
}
